{
 "cells": [
  {
   "cell_type": "code",
   "execution_count": 1,
   "id": "bfde72cd",
   "metadata": {},
   "outputs": [],
   "source": [
    "from splinter import Browser\n",
    "from bs4 import BeautifulSoup as soup\n",
    "from webdriver_manager.chrome import ChromeDriverManager"
   ]
  },
  {
   "cell_type": "code",
   "execution_count": 2,
   "id": "386832f4",
   "metadata": {},
   "outputs": [],
   "source": [
    "# Set up Splinter\n",
    "executable_path = {'executable_path': ChromeDriverManager().install()}"
   ]
  },
  {
   "cell_type": "code",
   "execution_count": 3,
   "id": "54a8602e",
   "metadata": {
    "scrolled": false
   },
   "outputs": [],
   "source": [
    "browser = Browser('chrome', **executable_path, headless=False)"
   ]
  },
  {
   "cell_type": "code",
   "execution_count": 4,
   "id": "1fbf6c0f",
   "metadata": {},
   "outputs": [],
   "source": [
    "# Visit the Quotes to Scrape site \n",
    "\n",
    "url = 'http://quotes.toscrape.com/'\n",
    "\n",
    "browser.visit(url)"
   ]
  },
  {
   "cell_type": "code",
   "execution_count": 5,
   "id": "fecbf756",
   "metadata": {},
   "outputs": [],
   "source": [
    "# Parse the HTML \n",
    "\n",
    "html = browser.html \n",
    "\n",
    "html_soup = soup(html, 'html.parser')"
   ]
  },
  {
   "cell_type": "code",
   "execution_count": 6,
   "id": "546dcddf",
   "metadata": {},
   "outputs": [
    {
     "data": {
      "text/plain": [
       "'Top Ten tags'"
      ]
     },
     "execution_count": 6,
     "metadata": {},
     "output_type": "execute_result"
    }
   ],
   "source": [
    "# Scrape the Title \n",
    "\n",
    "title = html_soup.find('h2').text \n",
    "\n",
    "title "
   ]
  },
  {
   "cell_type": "code",
   "execution_count": 8,
   "id": "0a1436c9",
   "metadata": {},
   "outputs": [
    {
     "name": "stdout",
     "output_type": "stream",
     "text": [
      "love\n",
      "inspirational\n",
      "life\n",
      "humor\n",
      "books\n",
      "reading\n",
      "friendship\n",
      "friends\n",
      "truth\n",
      "simile\n"
     ]
    }
   ],
   "source": [
    "#Scrape the top ten tags \n",
    "\n",
    "tag_box = html_soup.find('div', class_='tags-box')\n",
    "\n",
    "# tag_box \n",
    "\n",
    "tags = tag_box.find_all('a', class_='tag')\n",
    "\n",
    "for tag in tags: \n",
    "\n",
    "    word = tag.text \n",
    "    \n",
    "    print(word)"
   ]
  },
  {
   "cell_type": "code",
   "execution_count": 10,
   "id": "1197ee5d",
   "metadata": {},
   "outputs": [],
   "source": [
    "url = 'http://quotes.toscrape.com/'\n",
    "\n",
    "browser.visit(url)"
   ]
  },
  {
   "cell_type": "code",
   "execution_count": 11,
   "id": "4e4dbfc0",
   "metadata": {},
   "outputs": [],
   "source": [
    "# Creating a for loop that will creat a BF$ object, find al the qotes on the page, \n",
    "# print each quote from the page, and click the next buton at the botom of the page. \n",
    "\n",
    "for x in range (1, 6):\n",
    "    html = browser.html \n",
    "    quote_soup = soup('html.parser')\n",
    "    quotes = quote_soup.find_all('span', class_=\"text\")\n",
    "    for quote in quotes: \n",
    "        print('page:', x, '------------')\n",
    "        print(quote.text)\n",
    "    browser.links.find_by_partial_text('Next').click()"
   ]
  },
  {
   "cell_type": "code",
   "execution_count": null,
   "id": "18f14a93",
   "metadata": {},
   "outputs": [],
   "source": []
  }
 ],
 "metadata": {
  "kernelspec": {
   "display_name": "Python 3 (ipykernel)",
   "language": "python",
   "name": "python3"
  },
  "language_info": {
   "codemirror_mode": {
    "name": "ipython",
    "version": 3
   },
   "file_extension": ".py",
   "mimetype": "text/x-python",
   "name": "python",
   "nbconvert_exporter": "python",
   "pygments_lexer": "ipython3",
   "version": "3.7.13"
  }
 },
 "nbformat": 4,
 "nbformat_minor": 5
}
